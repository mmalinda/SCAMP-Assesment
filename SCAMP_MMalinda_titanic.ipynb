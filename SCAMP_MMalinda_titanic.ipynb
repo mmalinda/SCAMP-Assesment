{
  "nbformat": 4,
  "nbformat_minor": 0,
  "metadata": {
    "kernelspec": {
      "display_name": "Python 3",
      "language": "python",
      "name": "python3"
    },
    "language_info": {
      "codemirror_mode": {
        "name": "ipython",
        "version": 3
      },
      "file_extension": ".py",
      "mimetype": "text/x-python",
      "name": "python",
      "nbconvert_exporter": "python",
      "pygments_lexer": "ipython3",
      "version": "3.7.4"
    },
    "colab": {
      "name": "SCAMP_MMalinda_titanic.ipynb",
      "provenance": [],
      "include_colab_link": true
    }
  },
  "cells": [
    {
      "cell_type": "markdown",
      "metadata": {
        "id": "view-in-github",
        "colab_type": "text"
      },
      "source": [
        "<a href=\"https://colab.research.google.com/github/mmalinda/SCAMP-Assesment/blob/master/SCAMP_MMalinda_titanic.ipynb\" target=\"_parent\"><img src=\"https://colab.research.google.com/assets/colab-badge.svg\" alt=\"Open In Colab\"/></a>"
      ]
    },
    {
      "cell_type": "markdown",
      "metadata": {
        "id": "jOHGNS1friY5",
        "colab_type": "text"
      },
      "source": [
        "# SCAMP Submission: Titanic Survival Prediction"
      ]
    },
    {
      "cell_type": "markdown",
      "metadata": {
        "id": "ks0E1Y4kriY6",
        "colab_type": "text"
      },
      "source": [
        "# K-Nearest Neighbour Model (Titanic)"
      ]
    },
    {
      "cell_type": "markdown",
      "metadata": {
        "id": "RIIcjGhbriY7",
        "colab_type": "text"
      },
      "source": [
        "## Defining the Question "
      ]
    },
    {
      "cell_type": "markdown",
      "metadata": {
        "id": "pzQa98FXriY8",
        "colab_type": "text"
      },
      "source": [
        "The titanic was a British luxury passenger ship that sank on 14–15 April 1912 after hitting an iceberg during its maiden voyage. An estimated 1,500 passengers and ship personnel were killed in the accident. The passengers attempted to escape the sinking ship on lifeboats, with women and children being rescued first. The lifeboats did not have the capacity to take on all of the passengers, so the ship sank before many passengers were rescued. For this reason, many third class passengers, crew members and men were left behind.  \n",
        "The sinking of the Titanic became one of the most famous modern tragedies in modern history, and has captured the mind of many scholars and scientists. (Encyclopedia Britannica)"
      ]
    },
    {
      "cell_type": "markdown",
      "metadata": {
        "id": "oWkr5dbhriY9",
        "colab_type": "text"
      },
      "source": [
        "The question for this analysis is as follows: Did passengers survive the Titanic disaster by chance, or were individuals with certain attributes more likely to survive?"
      ]
    },
    {
      "cell_type": "markdown",
      "metadata": {
        "id": "W5KHs3FJriY-",
        "colab_type": "text"
      },
      "source": [
        "The data provided is from the titanic records and was obtained from a popular Kaggle machine learning competition (https://www.kaggle.com/c/titanic).  \n",
        "The data is relevant and sufficient to answer this question."
      ]
    },
    {
      "cell_type": "markdown",
      "metadata": {
        "id": "U-khNT7oriY_",
        "colab_type": "text"
      },
      "source": [
        "This project will be considered successful if the model can predict survival of a passenger with over 80% accuracy."
      ]
    },
    {
      "cell_type": "markdown",
      "metadata": {
        "id": "-H5XbqtxriY_",
        "colab_type": "text"
      },
      "source": [
        "## Methodology"
      ]
    },
    {
      "cell_type": "markdown",
      "metadata": {
        "id": "MInTPqF3riZA",
        "colab_type": "text"
      },
      "source": [
        "1. Data understanding\n",
        "2. Data exploration\n",
        "3. Data cleaning\n",
        "4. Univariate and multivariate analysis\n",
        "5. Building the model (K-Nearest Neighbour)\n",
        "6. Evaluating the model"
      ]
    },
    {
      "cell_type": "markdown",
      "metadata": {
        "id": "_T5bcRJRriZB",
        "colab_type": "text"
      },
      "source": [
        "## Data Understanding"
      ]
    },
    {
      "cell_type": "markdown",
      "metadata": {
        "id": "vTqdyIWtriZC",
        "colab_type": "text"
      },
      "source": [
        "The data provided is as follows:\n",
        "\n",
        "PassengerId - Identification number  \n",
        "Survived - Whether the individual survived or not (0 = No, 1 = Yes)  \n",
        "Pclass - Ticket class/economic status (1 = 1st/Upper, 2 = 2nd/Middle, 3 = 3rd/Lower)  \n",
        "Name - Name  \n",
        "Sex - Sex  \n",
        "Age - Age in years (fractional if less than 1, xx.5 if estimated)  \n",
        "SibSp - # of siblings / spouses aboard the Titanic  \n",
        "Parch - # of parents / children aboard the Titanic (0 for children travelling only with a nanny)  \n",
        "Ticket - Ticket number  \n",
        "Fare - Passenger fare  \n",
        "Cabin - Cabin number  \n",
        "Embarked - Port of Embarkation (C = Cherbourg, Q = Queenstown, S = Southampton)  \n",
        "\n",
        "The data available for this analysis is provided as two csv files with test and train data."
      ]
    },
    {
      "cell_type": "markdown",
      "metadata": {
        "id": "_b0ugTIzriZD",
        "colab_type": "text"
      },
      "source": [
        "## Data Exploration"
      ]
    },
    {
      "cell_type": "code",
      "metadata": {
        "id": "sMNiCodpriZE",
        "colab_type": "code",
        "colab": {}
      },
      "source": [
        "# Importing libraries\n",
        "import pandas as pd\n",
        "import numpy as np\n",
        "\n",
        "# Libraries for visualization\n",
        "import matplotlib.pyplot as plt\n",
        "plt.rcParams.update({'figure.max_open_warning': 0})\n",
        "%matplotlib inline\n",
        "import seaborn as sns"
      ],
      "execution_count": 0,
      "outputs": []
    },
    {
      "cell_type": "code",
      "metadata": {
        "id": "XX1WcniPriZK",
        "colab_type": "code",
        "outputId": "fc0c8e96-a17e-4ddf-eb76-70c1b25c958c",
        "colab": {
          "base_uri": "https://localhost:8080/",
          "height": 194
        }
      },
      "source": [
        "# Loading the test data\n",
        "df_test = pd.read_csv('test.csv')\n",
        "df_test.head()"
      ],
      "execution_count": 178,
      "outputs": [
        {
          "output_type": "execute_result",
          "data": {
            "text/html": [
              "<div>\n",
              "<style scoped>\n",
              "    .dataframe tbody tr th:only-of-type {\n",
              "        vertical-align: middle;\n",
              "    }\n",
              "\n",
              "    .dataframe tbody tr th {\n",
              "        vertical-align: top;\n",
              "    }\n",
              "\n",
              "    .dataframe thead th {\n",
              "        text-align: right;\n",
              "    }\n",
              "</style>\n",
              "<table border=\"1\" class=\"dataframe\">\n",
              "  <thead>\n",
              "    <tr style=\"text-align: right;\">\n",
              "      <th></th>\n",
              "      <th>PassengerId</th>\n",
              "      <th>Pclass</th>\n",
              "      <th>Name</th>\n",
              "      <th>Sex</th>\n",
              "      <th>Age</th>\n",
              "      <th>SibSp</th>\n",
              "      <th>Parch</th>\n",
              "      <th>Ticket</th>\n",
              "      <th>Fare</th>\n",
              "      <th>Cabin</th>\n",
              "      <th>Embarked</th>\n",
              "    </tr>\n",
              "  </thead>\n",
              "  <tbody>\n",
              "    <tr>\n",
              "      <th>0</th>\n",
              "      <td>892</td>\n",
              "      <td>3</td>\n",
              "      <td>Kelly, Mr. James</td>\n",
              "      <td>male</td>\n",
              "      <td>34.5</td>\n",
              "      <td>0</td>\n",
              "      <td>0</td>\n",
              "      <td>330911</td>\n",
              "      <td>7.8292</td>\n",
              "      <td>NaN</td>\n",
              "      <td>Q</td>\n",
              "    </tr>\n",
              "    <tr>\n",
              "      <th>1</th>\n",
              "      <td>893</td>\n",
              "      <td>3</td>\n",
              "      <td>Wilkes, Mrs. James (Ellen Needs)</td>\n",
              "      <td>female</td>\n",
              "      <td>47.0</td>\n",
              "      <td>1</td>\n",
              "      <td>0</td>\n",
              "      <td>363272</td>\n",
              "      <td>7.0000</td>\n",
              "      <td>NaN</td>\n",
              "      <td>S</td>\n",
              "    </tr>\n",
              "    <tr>\n",
              "      <th>2</th>\n",
              "      <td>894</td>\n",
              "      <td>2</td>\n",
              "      <td>Myles, Mr. Thomas Francis</td>\n",
              "      <td>male</td>\n",
              "      <td>62.0</td>\n",
              "      <td>0</td>\n",
              "      <td>0</td>\n",
              "      <td>240276</td>\n",
              "      <td>9.6875</td>\n",
              "      <td>NaN</td>\n",
              "      <td>Q</td>\n",
              "    </tr>\n",
              "    <tr>\n",
              "      <th>3</th>\n",
              "      <td>895</td>\n",
              "      <td>3</td>\n",
              "      <td>Wirz, Mr. Albert</td>\n",
              "      <td>male</td>\n",
              "      <td>27.0</td>\n",
              "      <td>0</td>\n",
              "      <td>0</td>\n",
              "      <td>315154</td>\n",
              "      <td>8.6625</td>\n",
              "      <td>NaN</td>\n",
              "      <td>S</td>\n",
              "    </tr>\n",
              "    <tr>\n",
              "      <th>4</th>\n",
              "      <td>896</td>\n",
              "      <td>3</td>\n",
              "      <td>Hirvonen, Mrs. Alexander (Helga E Lindqvist)</td>\n",
              "      <td>female</td>\n",
              "      <td>22.0</td>\n",
              "      <td>1</td>\n",
              "      <td>1</td>\n",
              "      <td>3101298</td>\n",
              "      <td>12.2875</td>\n",
              "      <td>NaN</td>\n",
              "      <td>S</td>\n",
              "    </tr>\n",
              "  </tbody>\n",
              "</table>\n",
              "</div>"
            ],
            "text/plain": [
              "   PassengerId  Pclass  ... Cabin Embarked\n",
              "0          892       3  ...   NaN        Q\n",
              "1          893       3  ...   NaN        S\n",
              "2          894       2  ...   NaN        Q\n",
              "3          895       3  ...   NaN        S\n",
              "4          896       3  ...   NaN        S\n",
              "\n",
              "[5 rows x 11 columns]"
            ]
          },
          "metadata": {
            "tags": []
          },
          "execution_count": 178
        }
      ]
    },
    {
      "cell_type": "markdown",
      "metadata": {
        "id": "mqgbYhetriZS",
        "colab_type": "text"
      },
      "source": [
        "The test set does not have a classifier for whether the individual survived, so we can not use it for modelling here."
      ]
    },
    {
      "cell_type": "code",
      "metadata": {
        "id": "pqd9J3f9riZT",
        "colab_type": "code",
        "outputId": "dd9499ed-414f-4cd8-972b-b9663502e5d9",
        "colab": {
          "base_uri": "https://localhost:8080/",
          "height": 194
        }
      },
      "source": [
        "# Loading the train data\n",
        "df_train = pd.read_csv('train.csv')\n",
        "df_train.head()"
      ],
      "execution_count": 179,
      "outputs": [
        {
          "output_type": "execute_result",
          "data": {
            "text/html": [
              "<div>\n",
              "<style scoped>\n",
              "    .dataframe tbody tr th:only-of-type {\n",
              "        vertical-align: middle;\n",
              "    }\n",
              "\n",
              "    .dataframe tbody tr th {\n",
              "        vertical-align: top;\n",
              "    }\n",
              "\n",
              "    .dataframe thead th {\n",
              "        text-align: right;\n",
              "    }\n",
              "</style>\n",
              "<table border=\"1\" class=\"dataframe\">\n",
              "  <thead>\n",
              "    <tr style=\"text-align: right;\">\n",
              "      <th></th>\n",
              "      <th>PassengerId</th>\n",
              "      <th>Survived</th>\n",
              "      <th>Pclass</th>\n",
              "      <th>Name</th>\n",
              "      <th>Sex</th>\n",
              "      <th>Age</th>\n",
              "      <th>SibSp</th>\n",
              "      <th>Parch</th>\n",
              "      <th>Ticket</th>\n",
              "      <th>Fare</th>\n",
              "      <th>Cabin</th>\n",
              "      <th>Embarked</th>\n",
              "    </tr>\n",
              "  </thead>\n",
              "  <tbody>\n",
              "    <tr>\n",
              "      <th>0</th>\n",
              "      <td>1</td>\n",
              "      <td>0</td>\n",
              "      <td>3</td>\n",
              "      <td>Braund, Mr. Owen Harris</td>\n",
              "      <td>male</td>\n",
              "      <td>22.0</td>\n",
              "      <td>1</td>\n",
              "      <td>0</td>\n",
              "      <td>A/5 21171</td>\n",
              "      <td>7.2500</td>\n",
              "      <td>NaN</td>\n",
              "      <td>S</td>\n",
              "    </tr>\n",
              "    <tr>\n",
              "      <th>1</th>\n",
              "      <td>2</td>\n",
              "      <td>1</td>\n",
              "      <td>1</td>\n",
              "      <td>Cumings, Mrs. John Bradley (Florence Briggs Th...</td>\n",
              "      <td>female</td>\n",
              "      <td>38.0</td>\n",
              "      <td>1</td>\n",
              "      <td>0</td>\n",
              "      <td>PC 17599</td>\n",
              "      <td>71.2833</td>\n",
              "      <td>C85</td>\n",
              "      <td>C</td>\n",
              "    </tr>\n",
              "    <tr>\n",
              "      <th>2</th>\n",
              "      <td>3</td>\n",
              "      <td>1</td>\n",
              "      <td>3</td>\n",
              "      <td>Heikkinen, Miss. Laina</td>\n",
              "      <td>female</td>\n",
              "      <td>26.0</td>\n",
              "      <td>0</td>\n",
              "      <td>0</td>\n",
              "      <td>STON/O2. 3101282</td>\n",
              "      <td>7.9250</td>\n",
              "      <td>NaN</td>\n",
              "      <td>S</td>\n",
              "    </tr>\n",
              "    <tr>\n",
              "      <th>3</th>\n",
              "      <td>4</td>\n",
              "      <td>1</td>\n",
              "      <td>1</td>\n",
              "      <td>Futrelle, Mrs. Jacques Heath (Lily May Peel)</td>\n",
              "      <td>female</td>\n",
              "      <td>35.0</td>\n",
              "      <td>1</td>\n",
              "      <td>0</td>\n",
              "      <td>113803</td>\n",
              "      <td>53.1000</td>\n",
              "      <td>C123</td>\n",
              "      <td>S</td>\n",
              "    </tr>\n",
              "    <tr>\n",
              "      <th>4</th>\n",
              "      <td>5</td>\n",
              "      <td>0</td>\n",
              "      <td>3</td>\n",
              "      <td>Allen, Mr. William Henry</td>\n",
              "      <td>male</td>\n",
              "      <td>35.0</td>\n",
              "      <td>0</td>\n",
              "      <td>0</td>\n",
              "      <td>373450</td>\n",
              "      <td>8.0500</td>\n",
              "      <td>NaN</td>\n",
              "      <td>S</td>\n",
              "    </tr>\n",
              "  </tbody>\n",
              "</table>\n",
              "</div>"
            ],
            "text/plain": [
              "   PassengerId  Survived  Pclass  ...     Fare Cabin  Embarked\n",
              "0            1         0       3  ...   7.2500   NaN         S\n",
              "1            2         1       1  ...  71.2833   C85         C\n",
              "2            3         1       3  ...   7.9250   NaN         S\n",
              "3            4         1       1  ...  53.1000  C123         S\n",
              "4            5         0       3  ...   8.0500   NaN         S\n",
              "\n",
              "[5 rows x 12 columns]"
            ]
          },
          "metadata": {
            "tags": []
          },
          "execution_count": 179
        }
      ]
    },
    {
      "cell_type": "code",
      "metadata": {
        "id": "HkrnAyokriZZ",
        "colab_type": "code",
        "outputId": "74ed94e3-1045-444a-85c8-1193ac6ee301",
        "colab": {
          "base_uri": "https://localhost:8080/",
          "height": 35
        }
      },
      "source": [
        "# Checking the shape of the data\n",
        "df_train.shape"
      ],
      "execution_count": 180,
      "outputs": [
        {
          "output_type": "execute_result",
          "data": {
            "text/plain": [
              "(891, 12)"
            ]
          },
          "metadata": {
            "tags": []
          },
          "execution_count": 180
        }
      ]
    },
    {
      "cell_type": "markdown",
      "metadata": {
        "id": "8RWKRnj0sNaI",
        "colab_type": "text"
      },
      "source": [
        "The data has 12 features and 891 records."
      ]
    },
    {
      "cell_type": "code",
      "metadata": {
        "id": "AWXlMMxrriZe",
        "colab_type": "code",
        "outputId": "c7f419b5-8966-4d9d-aade-0f9d3aa68f3d",
        "colab": {
          "base_uri": "https://localhost:8080/",
          "height": 355
        }
      },
      "source": [
        "# Checking the data types and missing records\n",
        "df_train.info()"
      ],
      "execution_count": 181,
      "outputs": [
        {
          "output_type": "stream",
          "text": [
            "<class 'pandas.core.frame.DataFrame'>\n",
            "RangeIndex: 891 entries, 0 to 890\n",
            "Data columns (total 12 columns):\n",
            " #   Column       Non-Null Count  Dtype  \n",
            "---  ------       --------------  -----  \n",
            " 0   PassengerId  891 non-null    int64  \n",
            " 1   Survived     891 non-null    int64  \n",
            " 2   Pclass       891 non-null    int64  \n",
            " 3   Name         891 non-null    object \n",
            " 4   Sex          891 non-null    object \n",
            " 5   Age          714 non-null    float64\n",
            " 6   SibSp        891 non-null    int64  \n",
            " 7   Parch        891 non-null    int64  \n",
            " 8   Ticket       891 non-null    object \n",
            " 9   Fare         891 non-null    float64\n",
            " 10  Cabin        204 non-null    object \n",
            " 11  Embarked     889 non-null    object \n",
            "dtypes: float64(2), int64(5), object(5)\n",
            "memory usage: 83.7+ KB\n"
          ],
          "name": "stdout"
        }
      ]
    },
    {
      "cell_type": "markdown",
      "metadata": {
        "id": "RgtzIpsariZl",
        "colab_type": "text"
      },
      "source": [
        "The dataset has 12 features (5 string and 7 numerical) and 891 records. \n",
        "All columns appear to have the correct data type.\n",
        "There are some missing values in the dataset."
      ]
    },
    {
      "cell_type": "code",
      "metadata": {
        "id": "Hrh27QpiriZm",
        "colab_type": "code",
        "outputId": "92e813d0-f8e7-4d9d-f45d-f7f127d08de0",
        "colab": {
          "base_uri": "https://localhost:8080/",
          "height": 282
        }
      },
      "source": [
        "# Previewing the variable distributions\n",
        "df_train.describe()"
      ],
      "execution_count": 182,
      "outputs": [
        {
          "output_type": "execute_result",
          "data": {
            "text/html": [
              "<div>\n",
              "<style scoped>\n",
              "    .dataframe tbody tr th:only-of-type {\n",
              "        vertical-align: middle;\n",
              "    }\n",
              "\n",
              "    .dataframe tbody tr th {\n",
              "        vertical-align: top;\n",
              "    }\n",
              "\n",
              "    .dataframe thead th {\n",
              "        text-align: right;\n",
              "    }\n",
              "</style>\n",
              "<table border=\"1\" class=\"dataframe\">\n",
              "  <thead>\n",
              "    <tr style=\"text-align: right;\">\n",
              "      <th></th>\n",
              "      <th>PassengerId</th>\n",
              "      <th>Survived</th>\n",
              "      <th>Pclass</th>\n",
              "      <th>Age</th>\n",
              "      <th>SibSp</th>\n",
              "      <th>Parch</th>\n",
              "      <th>Fare</th>\n",
              "    </tr>\n",
              "  </thead>\n",
              "  <tbody>\n",
              "    <tr>\n",
              "      <th>count</th>\n",
              "      <td>891.000000</td>\n",
              "      <td>891.000000</td>\n",
              "      <td>891.000000</td>\n",
              "      <td>714.000000</td>\n",
              "      <td>891.000000</td>\n",
              "      <td>891.000000</td>\n",
              "      <td>891.000000</td>\n",
              "    </tr>\n",
              "    <tr>\n",
              "      <th>mean</th>\n",
              "      <td>446.000000</td>\n",
              "      <td>0.383838</td>\n",
              "      <td>2.308642</td>\n",
              "      <td>29.699118</td>\n",
              "      <td>0.523008</td>\n",
              "      <td>0.381594</td>\n",
              "      <td>32.204208</td>\n",
              "    </tr>\n",
              "    <tr>\n",
              "      <th>std</th>\n",
              "      <td>257.353842</td>\n",
              "      <td>0.486592</td>\n",
              "      <td>0.836071</td>\n",
              "      <td>14.526497</td>\n",
              "      <td>1.102743</td>\n",
              "      <td>0.806057</td>\n",
              "      <td>49.693429</td>\n",
              "    </tr>\n",
              "    <tr>\n",
              "      <th>min</th>\n",
              "      <td>1.000000</td>\n",
              "      <td>0.000000</td>\n",
              "      <td>1.000000</td>\n",
              "      <td>0.420000</td>\n",
              "      <td>0.000000</td>\n",
              "      <td>0.000000</td>\n",
              "      <td>0.000000</td>\n",
              "    </tr>\n",
              "    <tr>\n",
              "      <th>25%</th>\n",
              "      <td>223.500000</td>\n",
              "      <td>0.000000</td>\n",
              "      <td>2.000000</td>\n",
              "      <td>20.125000</td>\n",
              "      <td>0.000000</td>\n",
              "      <td>0.000000</td>\n",
              "      <td>7.910400</td>\n",
              "    </tr>\n",
              "    <tr>\n",
              "      <th>50%</th>\n",
              "      <td>446.000000</td>\n",
              "      <td>0.000000</td>\n",
              "      <td>3.000000</td>\n",
              "      <td>28.000000</td>\n",
              "      <td>0.000000</td>\n",
              "      <td>0.000000</td>\n",
              "      <td>14.454200</td>\n",
              "    </tr>\n",
              "    <tr>\n",
              "      <th>75%</th>\n",
              "      <td>668.500000</td>\n",
              "      <td>1.000000</td>\n",
              "      <td>3.000000</td>\n",
              "      <td>38.000000</td>\n",
              "      <td>1.000000</td>\n",
              "      <td>0.000000</td>\n",
              "      <td>31.000000</td>\n",
              "    </tr>\n",
              "    <tr>\n",
              "      <th>max</th>\n",
              "      <td>891.000000</td>\n",
              "      <td>1.000000</td>\n",
              "      <td>3.000000</td>\n",
              "      <td>80.000000</td>\n",
              "      <td>8.000000</td>\n",
              "      <td>6.000000</td>\n",
              "      <td>512.329200</td>\n",
              "    </tr>\n",
              "  </tbody>\n",
              "</table>\n",
              "</div>"
            ],
            "text/plain": [
              "       PassengerId    Survived      Pclass  ...       SibSp       Parch        Fare\n",
              "count   891.000000  891.000000  891.000000  ...  891.000000  891.000000  891.000000\n",
              "mean    446.000000    0.383838    2.308642  ...    0.523008    0.381594   32.204208\n",
              "std     257.353842    0.486592    0.836071  ...    1.102743    0.806057   49.693429\n",
              "min       1.000000    0.000000    1.000000  ...    0.000000    0.000000    0.000000\n",
              "25%     223.500000    0.000000    2.000000  ...    0.000000    0.000000    7.910400\n",
              "50%     446.000000    0.000000    3.000000  ...    0.000000    0.000000   14.454200\n",
              "75%     668.500000    1.000000    3.000000  ...    1.000000    0.000000   31.000000\n",
              "max     891.000000    1.000000    3.000000  ...    8.000000    6.000000  512.329200\n",
              "\n",
              "[8 rows x 7 columns]"
            ]
          },
          "metadata": {
            "tags": []
          },
          "execution_count": 182
        }
      ]
    },
    {
      "cell_type": "markdown",
      "metadata": {
        "id": "fSNrsKMkriZs",
        "colab_type": "text"
      },
      "source": [
        "The data appears to have a reasonable range, but some variables do not seem to be normally distributed."
      ]
    },
    {
      "cell_type": "markdown",
      "metadata": {
        "id": "R6PPJQDzriZt",
        "colab_type": "text"
      },
      "source": [
        "## Data Cleaning"
      ]
    },
    {
      "cell_type": "code",
      "metadata": {
        "id": "PzHbZQCUriZu",
        "colab_type": "code",
        "outputId": "170cf525-376f-4a68-e215-c3c35f8696d5",
        "colab": {
          "base_uri": "https://localhost:8080/",
          "height": 35
        }
      },
      "source": [
        "# Checking for duplicated records\n",
        "df_train.duplicated().sum()"
      ],
      "execution_count": 183,
      "outputs": [
        {
          "output_type": "execute_result",
          "data": {
            "text/plain": [
              "0"
            ]
          },
          "metadata": {
            "tags": []
          },
          "execution_count": 183
        }
      ]
    },
    {
      "cell_type": "code",
      "metadata": {
        "id": "zBxgEpgRriZy",
        "colab_type": "code",
        "outputId": "4d5038ce-c896-4156-bb24-ef1e1a626939",
        "colab": {
          "base_uri": "https://localhost:8080/",
          "height": 248
        }
      },
      "source": [
        "# Checking for null values\n",
        "df_train.isnull().sum()"
      ],
      "execution_count": 184,
      "outputs": [
        {
          "output_type": "execute_result",
          "data": {
            "text/plain": [
              "PassengerId      0\n",
              "Survived         0\n",
              "Pclass           0\n",
              "Name             0\n",
              "Sex              0\n",
              "Age            177\n",
              "SibSp            0\n",
              "Parch            0\n",
              "Ticket           0\n",
              "Fare             0\n",
              "Cabin          687\n",
              "Embarked         2\n",
              "dtype: int64"
            ]
          },
          "metadata": {
            "tags": []
          },
          "execution_count": 184
        }
      ]
    },
    {
      "cell_type": "markdown",
      "metadata": {
        "id": "mPHgDT8asis8",
        "colab_type": "text"
      },
      "source": [
        "There are many missing values for age. Almost all values for cabin are missing."
      ]
    },
    {
      "cell_type": "code",
      "metadata": {
        "id": "bonASoeqriZ7",
        "colab_type": "code",
        "outputId": "5923574d-c158-4c8d-ed5b-b2e9d9dbad68",
        "colab": {
          "base_uri": "https://localhost:8080/",
          "height": 355
        }
      },
      "source": [
        "# Checking the effect of dropping all null values on the structure of the data\n",
        "df_train.dropna().info()"
      ],
      "execution_count": 185,
      "outputs": [
        {
          "output_type": "stream",
          "text": [
            "<class 'pandas.core.frame.DataFrame'>\n",
            "Int64Index: 183 entries, 1 to 889\n",
            "Data columns (total 12 columns):\n",
            " #   Column       Non-Null Count  Dtype  \n",
            "---  ------       --------------  -----  \n",
            " 0   PassengerId  183 non-null    int64  \n",
            " 1   Survived     183 non-null    int64  \n",
            " 2   Pclass       183 non-null    int64  \n",
            " 3   Name         183 non-null    object \n",
            " 4   Sex          183 non-null    object \n",
            " 5   Age          183 non-null    float64\n",
            " 6   SibSp        183 non-null    int64  \n",
            " 7   Parch        183 non-null    int64  \n",
            " 8   Ticket       183 non-null    object \n",
            " 9   Fare         183 non-null    float64\n",
            " 10  Cabin        183 non-null    object \n",
            " 11  Embarked     183 non-null    object \n",
            "dtypes: float64(2), int64(5), object(5)\n",
            "memory usage: 18.6+ KB\n"
          ],
          "name": "stdout"
        }
      ]
    },
    {
      "cell_type": "markdown",
      "metadata": {
        "id": "K-a9AOdQriaD",
        "colab_type": "text"
      },
      "source": [
        "Dropping all null values deletes too many records. \n",
        "The cabin column does not have data for most records, and hence it may be best to drop this variable."
      ]
    },
    {
      "cell_type": "code",
      "metadata": {
        "id": "dD8kYDxWriaF",
        "colab_type": "code",
        "outputId": "a9b6ec6a-1fa8-4b90-be24-8f162570b450",
        "colab": {
          "base_uri": "https://localhost:8080/",
          "height": 568
        }
      },
      "source": [
        "# Dropping the cabin column\n",
        "df = df_train.drop(columns = 'Cabin')\n",
        "print(df.info())\n",
        "df.isnull().sum()"
      ],
      "execution_count": 186,
      "outputs": [
        {
          "output_type": "stream",
          "text": [
            "<class 'pandas.core.frame.DataFrame'>\n",
            "RangeIndex: 891 entries, 0 to 890\n",
            "Data columns (total 11 columns):\n",
            " #   Column       Non-Null Count  Dtype  \n",
            "---  ------       --------------  -----  \n",
            " 0   PassengerId  891 non-null    int64  \n",
            " 1   Survived     891 non-null    int64  \n",
            " 2   Pclass       891 non-null    int64  \n",
            " 3   Name         891 non-null    object \n",
            " 4   Sex          891 non-null    object \n",
            " 5   Age          714 non-null    float64\n",
            " 6   SibSp        891 non-null    int64  \n",
            " 7   Parch        891 non-null    int64  \n",
            " 8   Ticket       891 non-null    object \n",
            " 9   Fare         891 non-null    float64\n",
            " 10  Embarked     889 non-null    object \n",
            "dtypes: float64(2), int64(5), object(4)\n",
            "memory usage: 76.7+ KB\n",
            "None\n"
          ],
          "name": "stdout"
        },
        {
          "output_type": "execute_result",
          "data": {
            "text/plain": [
              "PassengerId      0\n",
              "Survived         0\n",
              "Pclass           0\n",
              "Name             0\n",
              "Sex              0\n",
              "Age            177\n",
              "SibSp            0\n",
              "Parch            0\n",
              "Ticket           0\n",
              "Fare             0\n",
              "Embarked         2\n",
              "dtype: int64"
            ]
          },
          "metadata": {
            "tags": []
          },
          "execution_count": 186
        }
      ]
    },
    {
      "cell_type": "markdown",
      "metadata": {
        "id": "0yUkm-T6riaL",
        "colab_type": "text"
      },
      "source": [
        "The null values for the embarked variable can be dropped since there are only 2 missing records in that column"
      ]
    },
    {
      "cell_type": "code",
      "metadata": {
        "scrolled": true,
        "id": "O0LonpFLriaN",
        "colab_type": "code",
        "colab": {}
      },
      "source": [
        "# Dropping null values from Embarked variable\n",
        "df = df.dropna(subset = ['Embarked'])"
      ],
      "execution_count": 0,
      "outputs": []
    },
    {
      "cell_type": "code",
      "metadata": {
        "id": "uYr13VAgriaT",
        "colab_type": "code",
        "outputId": "7cd89e4f-b93a-4935-ef57-3d1b90c73191",
        "colab": {
          "base_uri": "https://localhost:8080/",
          "height": 230
        }
      },
      "source": [
        "# Checking that the null values were deleted\n",
        "df.isnull().sum()"
      ],
      "execution_count": 188,
      "outputs": [
        {
          "output_type": "execute_result",
          "data": {
            "text/plain": [
              "PassengerId      0\n",
              "Survived         0\n",
              "Pclass           0\n",
              "Name             0\n",
              "Sex              0\n",
              "Age            177\n",
              "SibSp            0\n",
              "Parch            0\n",
              "Ticket           0\n",
              "Fare             0\n",
              "Embarked         0\n",
              "dtype: int64"
            ]
          },
          "metadata": {
            "tags": []
          },
          "execution_count": 188
        }
      ]
    },
    {
      "cell_type": "markdown",
      "metadata": {
        "id": "V-ogkJQiriaY",
        "colab_type": "text"
      },
      "source": [
        "The age variable has many missing values, so it may not be best to drop them.\n",
        "Before imputing with a single median/mean value, it is important to check how the age data is distributed."
      ]
    },
    {
      "cell_type": "code",
      "metadata": {
        "id": "FGKzRfRCriaY",
        "colab_type": "code",
        "outputId": "26a374e4-9184-413e-f833-0dbbc7441f49",
        "colab": {
          "base_uri": "https://localhost:8080/",
          "height": 550
        }
      },
      "source": [
        "# Creating pivot tables to check if data is missing at random\n",
        "print(df[df['Age'].notnull()].groupby('Pclass')[['Age']].mean())\n",
        "print(df[df['Age'].notnull()].groupby('Survived')[['Age']].mean())\n",
        "print(df[df['Age'].notnull()].groupby('Sex')[['Age']].mean())\n",
        "print(df[df['Age'].notnull()].groupby('SibSp')[['Age']].mean())\n",
        "print(df[df['Age'].notnull()].groupby('Parch')[['Age']].mean())"
      ],
      "execution_count": 189,
      "outputs": [
        {
          "output_type": "stream",
          "text": [
            "              Age\n",
            "Pclass           \n",
            "1       38.105543\n",
            "2       29.877630\n",
            "3       25.140620\n",
            "                Age\n",
            "Survived           \n",
            "0         30.626179\n",
            "1         28.193299\n",
            "              Age\n",
            "Sex              \n",
            "female  27.745174\n",
            "male    30.726645\n",
            "             Age\n",
            "SibSp           \n",
            "0      31.318230\n",
            "1      30.089727\n",
            "2      22.620000\n",
            "3      13.916667\n",
            "4       7.055556\n",
            "5      10.200000\n",
            "             Age\n",
            "Parch           \n",
            "0      32.109827\n",
            "1      24.422000\n",
            "2      17.216912\n",
            "3      33.200000\n",
            "4      44.500000\n",
            "5      39.200000\n",
            "6      43.000000\n"
          ],
          "name": "stdout"
        }
      ]
    },
    {
      "cell_type": "markdown",
      "metadata": {
        "id": "b5f994l6riae",
        "colab_type": "text"
      },
      "source": [
        "The data does not seem to be evenly distributed across class, number of siblings/spouses, and number of parents/children. Since the class column does not separate younger people very well, the age data can be imputed by number of siblings/spouses according to the mean values above."
      ]
    },
    {
      "cell_type": "code",
      "metadata": {
        "id": "jl6xHrQ1riaf",
        "colab_type": "code",
        "outputId": "6aefa9f2-cedc-4356-deb4-0255d2ea8440",
        "colab": {
          "base_uri": "https://localhost:8080/",
          "height": 35
        }
      },
      "source": [
        "# Checking the values for number of siblings/spouses on board\n",
        "df['SibSp'].unique()"
      ],
      "execution_count": 190,
      "outputs": [
        {
          "output_type": "execute_result",
          "data": {
            "text/plain": [
              "array([1, 0, 3, 4, 2, 5, 8])"
            ]
          },
          "metadata": {
            "tags": []
          },
          "execution_count": 190
        }
      ]
    },
    {
      "cell_type": "markdown",
      "metadata": {
        "id": "oHCSprtSriak",
        "colab_type": "text"
      },
      "source": [
        "From the pivot table, age data does not appear to be available for passengers with 8 siblings/spouses. "
      ]
    },
    {
      "cell_type": "code",
      "metadata": {
        "id": "5lEA83f-riak",
        "colab_type": "code",
        "outputId": "c038ae74-0005-4d67-e0ca-44c1a964602c",
        "colab": {
          "base_uri": "https://localhost:8080/",
          "height": 252
        }
      },
      "source": [
        "# Confirming that all data for individuals with 8 siblings/spouses on board has missing age data\n",
        "df[df['SibSp'] == 8]"
      ],
      "execution_count": 191,
      "outputs": [
        {
          "output_type": "execute_result",
          "data": {
            "text/html": [
              "<div>\n",
              "<style scoped>\n",
              "    .dataframe tbody tr th:only-of-type {\n",
              "        vertical-align: middle;\n",
              "    }\n",
              "\n",
              "    .dataframe tbody tr th {\n",
              "        vertical-align: top;\n",
              "    }\n",
              "\n",
              "    .dataframe thead th {\n",
              "        text-align: right;\n",
              "    }\n",
              "</style>\n",
              "<table border=\"1\" class=\"dataframe\">\n",
              "  <thead>\n",
              "    <tr style=\"text-align: right;\">\n",
              "      <th></th>\n",
              "      <th>PassengerId</th>\n",
              "      <th>Survived</th>\n",
              "      <th>Pclass</th>\n",
              "      <th>Name</th>\n",
              "      <th>Sex</th>\n",
              "      <th>Age</th>\n",
              "      <th>SibSp</th>\n",
              "      <th>Parch</th>\n",
              "      <th>Ticket</th>\n",
              "      <th>Fare</th>\n",
              "      <th>Embarked</th>\n",
              "    </tr>\n",
              "  </thead>\n",
              "  <tbody>\n",
              "    <tr>\n",
              "      <th>159</th>\n",
              "      <td>160</td>\n",
              "      <td>0</td>\n",
              "      <td>3</td>\n",
              "      <td>Sage, Master. Thomas Henry</td>\n",
              "      <td>male</td>\n",
              "      <td>NaN</td>\n",
              "      <td>8</td>\n",
              "      <td>2</td>\n",
              "      <td>CA. 2343</td>\n",
              "      <td>69.55</td>\n",
              "      <td>S</td>\n",
              "    </tr>\n",
              "    <tr>\n",
              "      <th>180</th>\n",
              "      <td>181</td>\n",
              "      <td>0</td>\n",
              "      <td>3</td>\n",
              "      <td>Sage, Miss. Constance Gladys</td>\n",
              "      <td>female</td>\n",
              "      <td>NaN</td>\n",
              "      <td>8</td>\n",
              "      <td>2</td>\n",
              "      <td>CA. 2343</td>\n",
              "      <td>69.55</td>\n",
              "      <td>S</td>\n",
              "    </tr>\n",
              "    <tr>\n",
              "      <th>201</th>\n",
              "      <td>202</td>\n",
              "      <td>0</td>\n",
              "      <td>3</td>\n",
              "      <td>Sage, Mr. Frederick</td>\n",
              "      <td>male</td>\n",
              "      <td>NaN</td>\n",
              "      <td>8</td>\n",
              "      <td>2</td>\n",
              "      <td>CA. 2343</td>\n",
              "      <td>69.55</td>\n",
              "      <td>S</td>\n",
              "    </tr>\n",
              "    <tr>\n",
              "      <th>324</th>\n",
              "      <td>325</td>\n",
              "      <td>0</td>\n",
              "      <td>3</td>\n",
              "      <td>Sage, Mr. George John Jr</td>\n",
              "      <td>male</td>\n",
              "      <td>NaN</td>\n",
              "      <td>8</td>\n",
              "      <td>2</td>\n",
              "      <td>CA. 2343</td>\n",
              "      <td>69.55</td>\n",
              "      <td>S</td>\n",
              "    </tr>\n",
              "    <tr>\n",
              "      <th>792</th>\n",
              "      <td>793</td>\n",
              "      <td>0</td>\n",
              "      <td>3</td>\n",
              "      <td>Sage, Miss. Stella Anna</td>\n",
              "      <td>female</td>\n",
              "      <td>NaN</td>\n",
              "      <td>8</td>\n",
              "      <td>2</td>\n",
              "      <td>CA. 2343</td>\n",
              "      <td>69.55</td>\n",
              "      <td>S</td>\n",
              "    </tr>\n",
              "    <tr>\n",
              "      <th>846</th>\n",
              "      <td>847</td>\n",
              "      <td>0</td>\n",
              "      <td>3</td>\n",
              "      <td>Sage, Mr. Douglas Bullen</td>\n",
              "      <td>male</td>\n",
              "      <td>NaN</td>\n",
              "      <td>8</td>\n",
              "      <td>2</td>\n",
              "      <td>CA. 2343</td>\n",
              "      <td>69.55</td>\n",
              "      <td>S</td>\n",
              "    </tr>\n",
              "    <tr>\n",
              "      <th>863</th>\n",
              "      <td>864</td>\n",
              "      <td>0</td>\n",
              "      <td>3</td>\n",
              "      <td>Sage, Miss. Dorothy Edith \"Dolly\"</td>\n",
              "      <td>female</td>\n",
              "      <td>NaN</td>\n",
              "      <td>8</td>\n",
              "      <td>2</td>\n",
              "      <td>CA. 2343</td>\n",
              "      <td>69.55</td>\n",
              "      <td>S</td>\n",
              "    </tr>\n",
              "  </tbody>\n",
              "</table>\n",
              "</div>"
            ],
            "text/plain": [
              "     PassengerId  Survived  Pclass  ...    Ticket   Fare  Embarked\n",
              "159          160         0       3  ...  CA. 2343  69.55         S\n",
              "180          181         0       3  ...  CA. 2343  69.55         S\n",
              "201          202         0       3  ...  CA. 2343  69.55         S\n",
              "324          325         0       3  ...  CA. 2343  69.55         S\n",
              "792          793         0       3  ...  CA. 2343  69.55         S\n",
              "846          847         0       3  ...  CA. 2343  69.55         S\n",
              "863          864         0       3  ...  CA. 2343  69.55         S\n",
              "\n",
              "[7 rows x 11 columns]"
            ]
          },
          "metadata": {
            "tags": []
          },
          "execution_count": 191
        }
      ]
    },
    {
      "cell_type": "markdown",
      "metadata": {
        "id": "uHQhlzx-riap",
        "colab_type": "text"
      },
      "source": [
        "The age imputed into these records will be 10, which is the mean age for passengers with 5 siblings."
      ]
    },
    {
      "cell_type": "code",
      "metadata": {
        "id": "nxavEqmDriat",
        "colab_type": "code",
        "outputId": "f5287423-0cc2-4649-dcb9-20c89cb1e2ed",
        "colab": {
          "base_uri": "https://localhost:8080/",
          "height": 230
        }
      },
      "source": [
        "# Imputing age values by number of siblings/spouses aboard the ship\n",
        "def age_approx(cols):\n",
        "    Age = cols[0]\n",
        "    SibSp = cols[1]\n",
        "    \n",
        "    if pd.isnull(Age):\n",
        "        if SibSp == 0:\n",
        "            return 31\n",
        "        elif SibSp == 1:\n",
        "            return 30\n",
        "        elif SibSp == 2:\n",
        "            return 22\n",
        "        elif SibSp == 3:\n",
        "            return 14\n",
        "        elif SibSp == 4:\n",
        "            return 7\n",
        "        elif SibSp == 5:\n",
        "            return 10\n",
        "        else:\n",
        "            return 10\n",
        "    else:\n",
        "        return Age\n",
        "  \n",
        "df['Age'] = df[['Age', 'SibSp']].apply(age_approx, axis=1)\n",
        "df.isnull().sum()"
      ],
      "execution_count": 192,
      "outputs": [
        {
          "output_type": "execute_result",
          "data": {
            "text/plain": [
              "PassengerId    0\n",
              "Survived       0\n",
              "Pclass         0\n",
              "Name           0\n",
              "Sex            0\n",
              "Age            0\n",
              "SibSp          0\n",
              "Parch          0\n",
              "Ticket         0\n",
              "Fare           0\n",
              "Embarked       0\n",
              "dtype: int64"
            ]
          },
          "metadata": {
            "tags": []
          },
          "execution_count": 192
        }
      ]
    },
    {
      "cell_type": "code",
      "metadata": {
        "id": "bSvEJDeyriaw",
        "colab_type": "code",
        "outputId": "96fbb08d-3ea7-4228-93e7-7a2ab70d7751",
        "colab": {
          "base_uri": "https://localhost:8080/",
          "height": 568
        }
      },
      "source": [
        "print(df[df['Age'].notnull()].groupby('Pclass')[['Age']].mean())\n",
        "print(df[df['Age'].notnull()].groupby('Survived')[['Age']].mean())\n",
        "print(df[df['Age'].notnull()].groupby('Sex')[['Age']].mean())\n",
        "print(df[df['Age'].notnull()].groupby('SibSp')[['Age']].mean())\n",
        "print(df[df['Age'].notnull()].groupby('Parch')[['Age']].mean())"
      ],
      "execution_count": 193,
      "outputs": [
        {
          "output_type": "stream",
          "text": [
            "              Age\n",
            "Pclass           \n",
            "1       37.081402\n",
            "2       29.944728\n",
            "3       26.229980\n",
            "                Age\n",
            "Survived           \n",
            "0         30.283242\n",
            "1         28.525500\n",
            "              Age\n",
            "Sex              \n",
            "female  27.852564\n",
            "male    30.561820\n",
            "             Age\n",
            "SibSp           \n",
            "0      31.246287\n",
            "1      30.078565\n",
            "2      22.553571\n",
            "3      13.937500\n",
            "4       7.055556\n",
            "5      10.200000\n",
            "8      10.000000\n",
            "             Age\n",
            "Parch           \n",
            "0      31.781065\n",
            "1      24.266271\n",
            "2      17.421875\n",
            "3      33.200000\n",
            "4      44.500000\n",
            "5      39.200000\n",
            "6      43.000000\n"
          ],
          "name": "stdout"
        }
      ]
    },
    {
      "cell_type": "markdown",
      "metadata": {
        "id": "HyX1pdjqriaz",
        "colab_type": "text"
      },
      "source": [
        "The new distribution is fairly similar to the age distribution before imputing data.\n",
        "Now outliers can be identified and dealt with, if needed."
      ]
    },
    {
      "cell_type": "code",
      "metadata": {
        "id": "I6XmHPagria0",
        "colab_type": "code",
        "outputId": "48b1321f-5989-4784-f451-6111256996e4",
        "colab": {
          "base_uri": "https://localhost:8080/",
          "height": 1000
        }
      },
      "source": [
        "# Checking for outliers\n",
        "num_cols = df.select_dtypes(include = 'number')\n",
        "\n",
        "for col in num_cols:\n",
        "    plt.figure()\n",
        "    sns.boxplot(df[col])\n",
        "    plt.title(col)"
      ],
      "execution_count": 194,
      "outputs": [
        {
          "output_type": "display_data",
          "data": {
            "image/png": "[encoded data removed]",
            "text/plain": [
              "<Figure size 432x288 with 1 Axes>"
            ]
          },
          "metadata": {
            "tags": [],
            "needs_background": "light"
          }
        },
        {
          "output_type": "display_data",
          "data": {
            "image/png": "[encoded data removed]",
            "text/plain": [
              "<Figure size 432x288 with 1 Axes>"
            ]
          },
          "metadata": {
            "tags": [],
            "needs_background": "light"
          }
        },
        {
          "output_type": "display_data",
          "data": {
            "image/png": "[encoded data removed]",
            "text/plain": [
              "<Figure size 432x288 with 1 Axes>"
            ]
          },
          "metadata": {
            "tags": [],
            "needs_background": "light"
          }
        },
        {
          "output_type": "display_data",
          "data": {
            "image/png": "[encoded data removed]",
            "text/plain": [
              "<Figure size 432x288 with 1 Axes>"
            ]
          },
          "metadata": {
            "tags": [],
            "needs_background": "light"
          }
        },
        {
          "output_type": "display_data",
          "data": {
            "image/png": "[encoded data removed]",
            "text/plain": [
              "<Figure size 432x288 with 1 Axes>"
            ]
          },
          "metadata": {
            "tags": [],
            "needs_background": "light"
          }
        },
        {
          "output_type": "display_data",
          "data": {
            "image/png": "[encoded data removed]",
            "text/plain": [
              "<Figure size 432x288 with 1 Axes>"
            ]
          },
          "metadata": {
            "tags": [],
            "needs_background": "light"
          }
        },
        {
          "output_type": "display_data",
          "data": {
            "image/png": "[encoded data removed]",
            "text/plain": [
              "<Figure size 432x288 with 1 Axes>"
            ]
          },
          "metadata": {
            "tags": [],
            "needs_background": "light"
          }
        }
      ]
    },
    {
      "cell_type": "markdown",
      "metadata": {
        "id": "pDNjIP4Qria3",
        "colab_type": "text"
      },
      "source": [
        "The data has outliers and hence will need to be scaled or normalized for modeling."
      ]
    },
    {
      "cell_type": "markdown",
      "metadata": {
        "id": "CGeEN-Myria4",
        "colab_type": "text"
      },
      "source": [
        "##  Univariate Summaries"
      ]
    },
    {
      "cell_type": "code",
      "metadata": {
        "scrolled": true,
        "id": "weqPhwnBria4",
        "colab_type": "code",
        "outputId": "4084a3db-b132-4851-85cf-47f1743e002a",
        "colab": {
          "base_uri": "https://localhost:8080/",
          "height": 851
        }
      },
      "source": [
        "# Plotting histograms for continuous numerical variables\n",
        "num_cols = ['PassengerId', 'Age', 'Fare']\n",
        "\n",
        "for col in num_cols:\n",
        "    plt.figure()\n",
        "    sns.distplot(df[col])\n",
        "    plt.title(col)"
      ],
      "execution_count": 195,
      "outputs": [
        {
          "output_type": "display_data",
          "data": {
            "image/png": "[encoded data removed]",
            "text/plain": [
              "<Figure size 432x288 with 1 Axes>"
            ]
          },
          "metadata": {
            "tags": [],
            "needs_background": "light"
          }
        },
        {
          "output_type": "display_data",
          "data": {
            "image/png": "[encoded data removed]",
            "text/plain": [
              "<Figure size 432x288 with 1 Axes>"
            ]
          },
          "metadata": {
            "tags": [],
            "needs_background": "light"
          }
        },
        {
          "output_type": "display_data",
          "data": {
            "image/png": "[encoded data removed]",
            "text/plain": [
              "<Figure size 432x288 with 1 Axes>"
            ]
          },
          "metadata": {
            "tags": [],
            "needs_background": "light"
          }
        }
      ]
    },
    {
      "cell_type": "markdown",
      "metadata": {
        "id": "EVYSJQXkwa05",
        "colab_type": "text"
      },
      "source": [
        "Age seems to be close to normally distributed. Fare data is right skewed."
      ]
    },
    {
      "cell_type": "code",
      "metadata": {
        "id": "k8droeMNria9",
        "colab_type": "code",
        "outputId": "6a081295-b5e0-46e0-883c-4a870570f507",
        "colab": {
          "base_uri": "https://localhost:8080/",
          "height": 1000
        }
      },
      "source": [
        "# Plotting countplots for categorical variables\n",
        "cat_cols = ['Survived', 'Pclass', 'SibSp', 'Parch', 'Sex', 'Embarked']\n",
        "\n",
        "for col in cat_cols:\n",
        "    plt.figure()\n",
        "    sns.countplot(df[col])\n",
        "    plt.title(col)"
      ],
      "execution_count": 196,
      "outputs": [
        {
          "output_type": "display_data",
          "data": {
            "image/png": "[encoded data removed]",
            "text/plain": [
              "<Figure size 432x288 with 1 Axes>"
            ]
          },
          "metadata": {
            "tags": [],
            "needs_background": "light"
          }
        },
        {
          "output_type": "display_data",
          "data": {
            "image/png": "[encoded data removed]",
            "text/plain": [
              "<Figure size 432x288 with 1 Axes>"
            ]
          },
          "metadata": {
            "tags": [],
            "needs_background": "light"
          }
        },
        {
          "output_type": "display_data",
          "data": {
            "image/png": "[encoded data removed]",
            "text/plain": [
              "<Figure size 432x288 with 1 Axes>"
            ]
          },
          "metadata": {
            "tags": [],
            "needs_background": "light"
          }
        },
        {
          "output_type": "display_data",
          "data": {
            "image/png": "[encoded data removed]",
            "text/plain": [
              "<Figure size 432x288 with 1 Axes>"
            ]
          },
          "metadata": {
            "tags": [],
            "needs_background": "light"
          }
        },
        {
          "output_type": "display_data",
          "data": {
            "image/png": "[encoded data removed]",
            "text/plain": [
              "<Figure size 432x288 with 1 Axes>"
            ]
          },
          "metadata": {
            "tags": [],
            "needs_background": "light"
          }
        },
        {
          "output_type": "display_data",
          "data": {
            "image/png": "[encoded data removed]",
            "text/plain": [
              "<Figure size 432x288 with 1 Axes>"
            ]
          },
          "metadata": {
            "tags": [],
            "needs_background": "light"
          }
        }
      ]
    },
    {
      "cell_type": "markdown",
      "metadata": {
        "id": "KOaU-5IYwyNj",
        "colab_type": "text"
      },
      "source": [
        "### Observations:\n",
        "* The data is imbalanced in terms of survival, which will be corrected before modelling\n",
        "* There were more passengers in 3rd class than 1st or 2nd, which is expected\n",
        "* Most passengers had no siblings or spouses\n",
        "* Most passengers did not have children\n",
        "* Most passengers were male\n",
        "* Most passengers embarked at the Southampton port\n",
        "\n"
      ]
    },
    {
      "cell_type": "markdown",
      "metadata": {
        "id": "PfxKP6LGribA",
        "colab_type": "text"
      },
      "source": [
        "## Multivariate analysis"
      ]
    },
    {
      "cell_type": "code",
      "metadata": {
        "id": "TrOGrHbUyJVt",
        "colab_type": "code",
        "colab": {
          "base_uri": "https://localhost:8080/",
          "height": 851
        },
        "outputId": "35b424f3-4400-45a2-99ef-070a1b783e38"
      },
      "source": [
        "# Distribution of survivors - continuous variables\n",
        "for col in num_cols:\n",
        "    plt.figure()\n",
        "    sns.scatterplot(df[col], df['Survived'], hue = df['Survived'])\n",
        "    plt.title(col)"
      ],
      "execution_count": 197,
      "outputs": [
        {
          "output_type": "display_data",
          "data": {
            "image/png": "[encoded data removed]",
            "text/plain": [
              "<Figure size 432x288 with 1 Axes>"
            ]
          },
          "metadata": {
            "tags": [],
            "needs_background": "light"
          }
        },
        {
          "output_type": "display_data",
          "data": {
            "image/png": "[encoded data removed]",
            "text/plain": [
              "<Figure size 432x288 with 1 Axes>"
            ]
          },
          "metadata": {
            "tags": [],
            "needs_background": "light"
          }
        },
        {
          "output_type": "display_data",
          "data": {
            "image/png": "[encoded data removed]",
            "text/plain": [
              "<Figure size 432x288 with 1 Axes>"
            ]
          },
          "metadata": {
            "tags": [],
            "needs_background": "light"
          }
        }
      ]
    },
    {
      "cell_type": "markdown",
      "metadata": {
        "id": "CQdQ9gqizrm-",
        "colab_type": "text"
      },
      "source": [
        "### Observations:\n",
        "* Passenger Id does not seem to have an effect on survival\n",
        "* Younger passengers apper to have had higher chances of surivival, with the exception of one passenger.\n",
        "* Fare does not seem to have an effect on survival."
      ]
    },
    {
      "cell_type": "code",
      "metadata": {
        "id": "JzKkxZ4SzECx",
        "colab_type": "code",
        "colab": {
          "base_uri": "https://localhost:8080/",
          "height": 1000
        },
        "outputId": "c0c1072a-936f-4efa-bc2d-84d0c8a99429"
      },
      "source": [
        "# Distribution of survivors - categorical variables\n",
        "cat_colss = ['Pclass', 'SibSp', 'Parch', 'Sex', 'Embarked']\n",
        "\n",
        "for col in cat_colss:\n",
        "    plt.figure()\n",
        "    sns.countplot(df[col], hue = df['Survived'])\n",
        "    plt.title(col)"
      ],
      "execution_count": 198,
      "outputs": [
        {
          "output_type": "display_data",
          "data": {
            "image/png": "[encoded data removed]",
            "text/plain": [
              "<Figure size 432x288 with 1 Axes>"
            ]
          },
          "metadata": {
            "tags": [],
            "needs_background": "light"
          }
        },
        {
          "output_type": "display_data",
          "data": {
            "image/png": "[encoded data removed]",
            "text/plain": [
              "<Figure size 432x288 with 1 Axes>"
            ]
          },
          "metadata": {
            "tags": [],
            "needs_background": "light"
          }
        },
        {
          "output_type": "display_data",
          "data": {
            "image/png": "[encoded data removed]",
            "text/plain": [
              "<Figure size 432x288 with 1 Axes>"
            ]
          },
          "metadata": {
            "tags": [],
            "needs_background": "light"
          }
        },
        {
          "output_type": "display_data",
          "data": {
            "image/png": "[encoded data removed]",
            "text/plain": [
              "<Figure size 432x288 with 1 Axes>"
            ]
          },
          "metadata": {
            "tags": [],
            "needs_background": "light"
          }
        },
        {
          "output_type": "display_data",
          "data": {
            "image/png": "[encoded data removed]",
            "text/plain": [
              "<Figure size 432x288 with 1 Axes>"
            ]
          },
          "metadata": {
            "tags": [],
            "needs_background": "light"
          }
        }
      ]
    },
    {
      "cell_type": "markdown",
      "metadata": {
        "id": "sHph-l5t1KpB",
        "colab_type": "text"
      },
      "source": [
        "### Observations:\n",
        "* 3rd class passengers appear to have had a lower chance of survival\n",
        "* Passengers without siblings or children seem to have a lower chance of survival\n",
        "* Female passengers were apparently more likely to survive\n",
        "* Passengers that were to embark at the Southampton port seem to have a lower chance of survival.\n",
        "\n",
        "This matches with accounts that the groups with the highest percentage of survivors were women, children, and passengers accompanying children."
      ]
    },
    {
      "cell_type": "code",
      "metadata": {
        "scrolled": true,
        "id": "qe9_R4GYribD",
        "colab_type": "code",
        "outputId": "20e753d7-5b15-4bee-cb68-1ac753be4005",
        "colab": {
          "base_uri": "https://localhost:8080/",
          "height": 884
        }
      },
      "source": [
        "# Checking for correlation between variables\n",
        "corr = df.corr()\n",
        "\n",
        "f, ax = plt.subplots(figsize=(20, 15))\n",
        "corr = df.corr()\n",
        "sns.heatmap(corr, annot = True, cmap = 'coolwarm',\n",
        "            xticklabels=corr.columns.values,\n",
        "            yticklabels=corr.columns.values)"
      ],
      "execution_count": 199,
      "outputs": [
        {
          "output_type": "execute_result",
          "data": {
            "text/plain": [
              "<matplotlib.axes._subplots.AxesSubplot at 0x7f7e9edfeac8>"
            ]
          },
          "metadata": {
            "tags": []
          },
          "execution_count": 199
        },
        {
          "output_type": "display_data",
          "data": {
            "image/png": "[encoded data removed]",
            "text/plain": [
              "<Figure size 1440x1080 with 2 Axes>"
            ]
          },
          "metadata": {
            "tags": [],
            "needs_background": "light"
          }
        }
      ]
    },
    {
      "cell_type": "markdown",
      "metadata": {
        "id": "StPawvhX21SG",
        "colab_type": "text"
      },
      "source": [
        "Passenger class and fare are correlated, which is expected. The number of children and number of siblings are also correlated.\n",
        "\n",
        "Survival seems to have a low correlation to class and fare."
      ]
    },
    {
      "cell_type": "code",
      "metadata": {
        "id": "w-otHeMP3aTx",
        "colab_type": "code",
        "colab": {
          "base_uri": "https://localhost:8080/",
          "height": 252
        },
        "outputId": "094a7677-922d-44f8-c5e7-2d58c5012cb6"
      },
      "source": [
        "# Checking VIF scores\n",
        "pd.DataFrame(np.linalg.inv(corr.values), index = corr.index, columns=corr.columns)"
      ],
      "execution_count": 200,
      "outputs": [
        {
          "output_type": "execute_result",
          "data": {
            "text/html": [
              "<div>\n",
              "<style scoped>\n",
              "    .dataframe tbody tr th:only-of-type {\n",
              "        vertical-align: middle;\n",
              "    }\n",
              "\n",
              "    .dataframe tbody tr th {\n",
              "        vertical-align: top;\n",
              "    }\n",
              "\n",
              "    .dataframe thead th {\n",
              "        text-align: right;\n",
              "    }\n",
              "</style>\n",
              "<table border=\"1\" class=\"dataframe\">\n",
              "  <thead>\n",
              "    <tr style=\"text-align: right;\">\n",
              "      <th></th>\n",
              "      <th>PassengerId</th>\n",
              "      <th>Survived</th>\n",
              "      <th>Pclass</th>\n",
              "      <th>Age</th>\n",
              "      <th>SibSp</th>\n",
              "      <th>Parch</th>\n",
              "      <th>Fare</th>\n",
              "    </tr>\n",
              "  </thead>\n",
              "  <tbody>\n",
              "    <tr>\n",
              "      <th>PassengerId</th>\n",
              "      <td>1.005324</td>\n",
              "      <td>0.022253</td>\n",
              "      <td>0.035060</td>\n",
              "      <td>-0.002621</td>\n",
              "      <td>0.067416</td>\n",
              "      <td>-0.028467</td>\n",
              "      <td>-0.003689</td>\n",
              "    </tr>\n",
              "    <tr>\n",
              "      <th>Survived</th>\n",
              "      <td>0.022253</td>\n",
              "      <td>1.196240</td>\n",
              "      <td>0.425101</td>\n",
              "      <td>0.254967</td>\n",
              "      <td>0.145315</td>\n",
              "      <td>-0.092865</td>\n",
              "      <td>-0.094951</td>\n",
              "    </tr>\n",
              "    <tr>\n",
              "      <th>Pclass</th>\n",
              "      <td>0.035060</td>\n",
              "      <td>0.425101</td>\n",
              "      <td>1.805082</td>\n",
              "      <td>0.522363</td>\n",
              "      <td>-0.046287</td>\n",
              "      <td>-0.127963</td>\n",
              "      <td>0.876636</td>\n",
              "    </tr>\n",
              "    <tr>\n",
              "      <th>Age</th>\n",
              "      <td>-0.002621</td>\n",
              "      <td>0.254967</td>\n",
              "      <td>0.522363</td>\n",
              "      <td>1.325427</td>\n",
              "      <td>0.360139</td>\n",
              "      <td>0.088082</td>\n",
              "      <td>0.044702</td>\n",
              "    </tr>\n",
              "    <tr>\n",
              "      <th>SibSp</th>\n",
              "      <td>0.067416</td>\n",
              "      <td>0.145315</td>\n",
              "      <td>-0.046287</td>\n",
              "      <td>0.360139</td>\n",
              "      <td>1.352266</td>\n",
              "      <td>-0.450823</td>\n",
              "      <td>-0.209856</td>\n",
              "    </tr>\n",
              "    <tr>\n",
              "      <th>Parch</th>\n",
              "      <td>-0.028467</td>\n",
              "      <td>-0.092865</td>\n",
              "      <td>-0.127963</td>\n",
              "      <td>0.088082</td>\n",
              "      <td>-0.450823</td>\n",
              "      <td>1.270952</td>\n",
              "      <td>-0.256633</td>\n",
              "    </tr>\n",
              "    <tr>\n",
              "      <th>Fare</th>\n",
              "      <td>-0.003689</td>\n",
              "      <td>-0.094951</td>\n",
              "      <td>0.876636</td>\n",
              "      <td>0.044702</td>\n",
              "      <td>-0.209856</td>\n",
              "      <td>-0.256633</td>\n",
              "      <td>1.591086</td>\n",
              "    </tr>\n",
              "  </tbody>\n",
              "</table>\n",
              "</div>"
            ],
            "text/plain": [
              "             PassengerId  Survived    Pclass  ...     SibSp     Parch      Fare\n",
              "PassengerId     1.005324  0.022253  0.035060  ...  0.067416 -0.028467 -0.003689\n",
              "Survived        0.022253  1.196240  0.425101  ...  0.145315 -0.092865 -0.094951\n",
              "Pclass          0.035060  0.425101  1.805082  ... -0.046287 -0.127963  0.876636\n",
              "Age            -0.002621  0.254967  0.522363  ...  0.360139  0.088082  0.044702\n",
              "SibSp           0.067416  0.145315 -0.046287  ...  1.352266 -0.450823 -0.209856\n",
              "Parch          -0.028467 -0.092865 -0.127963  ... -0.450823  1.270952 -0.256633\n",
              "Fare           -0.003689 -0.094951  0.876636  ... -0.209856 -0.256633  1.591086\n",
              "\n",
              "[7 rows x 7 columns]"
            ]
          },
          "metadata": {
            "tags": []
          },
          "execution_count": 200
        }
      ]
    },
    {
      "cell_type": "markdown",
      "metadata": {
        "id": "7n5TDK_I5XZA",
        "colab_type": "text"
      },
      "source": [
        "The VIF scores along the downwards sloping diagonal show that the correlation is fairly low, so no action will be taken here."
      ]
    },
    {
      "cell_type": "markdown",
      "metadata": {
        "id": "NPKmFcTBribF",
        "colab_type": "text"
      },
      "source": [
        "## Model - K-Nearest Neighbour"
      ]
    },
    {
      "cell_type": "markdown",
      "metadata": {
        "id": "V_L9AGqOribG",
        "colab_type": "text"
      },
      "source": [
        "The sex column has text data which needs to be converted to categorical data and encoded."
      ]
    },
    {
      "cell_type": "code",
      "metadata": {
        "id": "D6q0vfyPribG",
        "colab_type": "code",
        "outputId": "27440924-2c99-4150-a72d-42651c12ba70",
        "colab": {
          "base_uri": "https://localhost:8080/",
          "height": 230
        }
      },
      "source": [
        "# Encoding data in categorical columns\n",
        "df['Sex'] = df['Sex'].astype('category')\n",
        "\n",
        "# Using label encoder on categorical columns\n",
        "df['Sex'] = df['Sex'].cat.codes\n",
        "df['Sex']"
      ],
      "execution_count": 201,
      "outputs": [
        {
          "output_type": "execute_result",
          "data": {
            "text/plain": [
              "0      1\n",
              "1      0\n",
              "2      0\n",
              "3      0\n",
              "4      1\n",
              "      ..\n",
              "886    1\n",
              "887    0\n",
              "888    0\n",
              "889    1\n",
              "890    1\n",
              "Name: Sex, Length: 889, dtype: int8"
            ]
          },
          "metadata": {
            "tags": []
          },
          "execution_count": 201
        }
      ]
    },
    {
      "cell_type": "code",
      "metadata": {
        "id": "VTxs8heoribJ",
        "colab_type": "code",
        "outputId": "b4464e05-94a3-4ee1-c03f-101f865e967b",
        "colab": {
          "base_uri": "https://localhost:8080/",
          "height": 70
        }
      },
      "source": [
        "#Checking the distribution of passengers that survived vs those that did not survive\n",
        "df['Survived'].value_counts()"
      ],
      "execution_count": 202,
      "outputs": [
        {
          "output_type": "execute_result",
          "data": {
            "text/plain": [
              "0    549\n",
              "1    340\n",
              "Name: Survived, dtype: int64"
            ]
          },
          "metadata": {
            "tags": []
          },
          "execution_count": 202
        }
      ]
    },
    {
      "cell_type": "markdown",
      "metadata": {
        "id": "_xjZxqvTribN",
        "colab_type": "text"
      },
      "source": [
        "The data is imbalanced, with a higher number of passengers not surviving. The model may be inclined to predict that passengers did not survive.\n",
        "\n",
        "We will create a new balanced dataset by resampling with replacement for passengers that survived, until the number of records for each class are even."
      ]
    },
    {
      "cell_type": "code",
      "metadata": {
        "id": "rv_83Ms9ribO",
        "colab_type": "code",
        "colab": {}
      },
      "source": [
        "# Separate majority and minority classes\n",
        "from sklearn.utils import resample\n",
        "\n",
        "df_majority = df[df.Survived==0]\n",
        "df_minority = df[df.Survived==1]\n",
        " \n",
        "# Upsample minority class\n",
        "df_minority_upsampled = resample(df_minority, \n",
        "                                 replace=True,  \n",
        "                                 n_samples=549,    # no of passengers that did not survive\n",
        "                                 random_state=0) \n",
        " \n",
        "# Combine majority class with upsampled minority class\n",
        "df_upsampled = pd.concat([df_majority, df_minority_upsampled])"
      ],
      "execution_count": 0,
      "outputs": []
    },
    {
      "cell_type": "code",
      "metadata": {
        "id": "H1AEgEoXribQ",
        "colab_type": "code",
        "outputId": "5c5e3d9b-0f31-4ad5-d693-32cd46d074f4",
        "colab": {
          "base_uri": "https://localhost:8080/",
          "height": 70
        }
      },
      "source": [
        "#Checking the distribution of passengers that survived vs those that did not survive\n",
        "df_upsampled['Survived'].value_counts()"
      ],
      "execution_count": 204,
      "outputs": [
        {
          "output_type": "execute_result",
          "data": {
            "text/plain": [
              "1    549\n",
              "0    549\n",
              "Name: Survived, dtype: int64"
            ]
          },
          "metadata": {
            "tags": []
          },
          "execution_count": 204
        }
      ]
    },
    {
      "cell_type": "markdown",
      "metadata": {
        "id": "UvQU8KjjribU",
        "colab_type": "text"
      },
      "source": [
        "The classes are now even.  \n",
        "The data on passenger ID, name and point of embarkation are not relevant for this analysis, so they will not be included in the model. "
      ]
    },
    {
      "cell_type": "code",
      "metadata": {
        "id": "GyyEg5xNribU",
        "colab_type": "code",
        "outputId": "4e2b59a0-fc35-441a-e0fc-55e1f8a8545e",
        "colab": {
          "base_uri": "https://localhost:8080/",
          "height": 230
        }
      },
      "source": [
        "# Splitting the dataset into 80% train and 20% test data\n",
        "X = df_upsampled[['Pclass', 'Sex', 'Age', 'SibSp',\n",
        "       'Parch', 'Fare']].values\n",
        "y = df_upsampled['Survived'].values\n",
        "\n",
        "from sklearn.model_selection import train_test_split\n",
        "X_train, X_test, y_train, y_test = train_test_split(X, y, test_size = 0.2, random_state = 0)\n",
        "\n",
        "print('X train:', X_train.shape, 'X test:', X_test.shape, 'y train:', y_train.shape, 'y test:', y_test.shape)\n",
        "\n",
        "# Feature scaling (standardization)\n",
        "from sklearn.preprocessing import StandardScaler\n",
        "\n",
        "scaler = StandardScaler()\n",
        "\n",
        "X_train = scaler.fit_transform(X_train)\n",
        "X_test = scaler.fit_transform(X_test)\n",
        "\n",
        "# Training the KNN model\n",
        "from sklearn.neighbors import KNeighborsClassifier\n",
        "classifier = KNeighborsClassifier(n_neighbors = 6)\n",
        "classifier.fit(X_train, y_train)\n",
        "\n",
        "# Making predictions based on the model\n",
        "y_pred = classifier.predict(X_test)\n",
        "\n",
        "# Evaluating the model\n",
        "from sklearn.metrics import classification_report, confusion_matrix\n",
        "print(confusion_matrix(y_test, y_pred))\n",
        "print(classification_report(y_test, y_pred))"
      ],
      "execution_count": 205,
      "outputs": [
        {
          "output_type": "stream",
          "text": [
            "X train: (878, 6) X test: (220, 6) y train: (878,) y test: (220,)\n",
            "[[90 15]\n",
            " [20 95]]\n",
            "              precision    recall  f1-score   support\n",
            "\n",
            "           0       0.82      0.86      0.84       105\n",
            "           1       0.86      0.83      0.84       115\n",
            "\n",
            "    accuracy                           0.84       220\n",
            "   macro avg       0.84      0.84      0.84       220\n",
            "weighted avg       0.84      0.84      0.84       220\n",
            "\n"
          ],
          "name": "stdout"
        }
      ]
    },
    {
      "cell_type": "markdown",
      "metadata": {
        "id": "GdV37e_rribd",
        "colab_type": "text"
      },
      "source": [
        "After a manual search, the ideal number of neighbours(k) for this model was found to be 6.\n",
        "\n",
        "To further optimize the model, we will change the distance metric, implement weighted voting, and change the algorithm used to compute the nearest neighbours."
      ]
    },
    {
      "cell_type": "markdown",
      "metadata": {
        "id": "4LFOz1tZribj",
        "colab_type": "text"
      },
      "source": [
        "## Changing the distance metric"
      ]
    },
    {
      "cell_type": "code",
      "metadata": {
        "id": "Qq2SmHUKribj",
        "colab_type": "code",
        "outputId": "9b273595-26f9-44d0-98e1-3ee970972c08",
        "colab": {
          "base_uri": "https://localhost:8080/",
          "height": 212
        }
      },
      "source": [
        "# Training the KNN model\n",
        "from sklearn.neighbors import KNeighborsClassifier\n",
        "classifier = KNeighborsClassifier(n_neighbors = 6, metric = 'manhattan')\n",
        "classifier.fit(X_train, y_train)\n",
        "\n",
        "# Making predictions based on the model\n",
        "y_pred = classifier.predict(X_test)\n",
        "\n",
        "# Evaluating the model\n",
        "from sklearn.metrics import classification_report, confusion_matrix\n",
        "print(confusion_matrix(y_test, y_pred))\n",
        "print(classification_report(y_test, y_pred))"
      ],
      "execution_count": 239,
      "outputs": [
        {
          "output_type": "stream",
          "text": [
            "[[92 13]\n",
            " [17 98]]\n",
            "              precision    recall  f1-score   support\n",
            "\n",
            "           0       0.84      0.88      0.86       105\n",
            "           1       0.88      0.85      0.87       115\n",
            "\n",
            "    accuracy                           0.86       220\n",
            "   macro avg       0.86      0.86      0.86       220\n",
            "weighted avg       0.86      0.86      0.86       220\n",
            "\n"
          ],
          "name": "stdout"
        }
      ]
    },
    {
      "cell_type": "markdown",
      "metadata": {
        "id": "sd-6GonJribn",
        "colab_type": "text"
      },
      "source": [
        "The accuracy of prediction improved using the Manhattan distance. Since the accuracy of prediction has improved while keeping k at 6, we will use the Manhatann distance as a parameter."
      ]
    },
    {
      "cell_type": "markdown",
      "metadata": {
        "id": "i8ZRXkpPribo",
        "colab_type": "text"
      },
      "source": [
        "## Weighted voting"
      ]
    },
    {
      "cell_type": "code",
      "metadata": {
        "id": "fvWcZygXribo",
        "colab_type": "code",
        "outputId": "4b3c454d-76ff-4b80-e7ab-faf9375e2a1d",
        "colab": {
          "base_uri": "https://localhost:8080/",
          "height": 212
        }
      },
      "source": [
        "# Training the KNN model\n",
        "from sklearn.neighbors import KNeighborsClassifier\n",
        "classifier = KNeighborsClassifier(n_neighbors = 6, metric = 'manhattan', weights = 'distance')\n",
        "classifier.fit(X_train, y_train)\n",
        "\n",
        "# Making predictions based on the model\n",
        "y_pred = classifier.predict(X_test)\n",
        "\n",
        "# Evaluating the model\n",
        "from sklearn.metrics import classification_report, confusion_matrix\n",
        "print(confusion_matrix(y_test, y_pred))\n",
        "print(classification_report(y_test, y_pred))"
      ],
      "execution_count": 219,
      "outputs": [
        {
          "output_type": "stream",
          "text": [
            "[[81 24]\n",
            " [16 99]]\n",
            "              precision    recall  f1-score   support\n",
            "\n",
            "           0       0.84      0.77      0.80       105\n",
            "           1       0.80      0.86      0.83       115\n",
            "\n",
            "    accuracy                           0.82       220\n",
            "   macro avg       0.82      0.82      0.82       220\n",
            "weighted avg       0.82      0.82      0.82       220\n",
            "\n"
          ],
          "name": "stdout"
        }
      ]
    },
    {
      "cell_type": "markdown",
      "metadata": {
        "id": "gMvwwQ7pribs",
        "colab_type": "text"
      },
      "source": [
        "Changing the weight function does not improve the model's accuracy.\n"
      ]
    },
    {
      "cell_type": "markdown",
      "metadata": {
        "id": "RXFB-RKtribt",
        "colab_type": "text"
      },
      "source": [
        "## Changing the algorithm"
      ]
    },
    {
      "cell_type": "code",
      "metadata": {
        "id": "Yenw4JvNribt",
        "colab_type": "code",
        "outputId": "6875cfa4-0544-4d76-c05c-0325e64ab171",
        "colab": {
          "base_uri": "https://localhost:8080/",
          "height": 212
        }
      },
      "source": [
        "# Training the KNN model\n",
        "from sklearn.neighbors import KNeighborsClassifier\n",
        "classifier = KNeighborsClassifier(n_neighbors = 6, metric = 'manhattan', algorithm = 'brute')\n",
        "classifier.fit(X_train, y_train)\n",
        "\n",
        "# Making predictions based on the model\n",
        "y_pred = classifier.predict(X_test)\n",
        "\n",
        "# Evaluating the model\n",
        "from sklearn.metrics import classification_report, confusion_matrix\n",
        "print(confusion_matrix(y_test, y_pred))\n",
        "print(classification_report(y_test, y_pred))"
      ],
      "execution_count": 217,
      "outputs": [
        {
          "output_type": "stream",
          "text": [
            "[[92 13]\n",
            " [17 98]]\n",
            "              precision    recall  f1-score   support\n",
            "\n",
            "           0       0.84      0.88      0.86       105\n",
            "           1       0.88      0.85      0.87       115\n",
            "\n",
            "    accuracy                           0.86       220\n",
            "   macro avg       0.86      0.86      0.86       220\n",
            "weighted avg       0.86      0.86      0.86       220\n",
            "\n"
          ],
          "name": "stdout"
        }
      ]
    },
    {
      "cell_type": "markdown",
      "metadata": {
        "id": "Ui61zFk9riby",
        "colab_type": "text"
      },
      "source": [
        "Changing the algorithm has no effect on model accuracy."
      ]
    },
    {
      "cell_type": "markdown",
      "metadata": {
        "id": "YfYdbw8Oribz",
        "colab_type": "text"
      },
      "source": [
        "From the parameter tuning performed above, the best model uses 20% test data, with 6 nearest neighbours, using the Manhattan distance. The most accurate predictions on whether a passenger would survive or not can be made using the following model:"
      ]
    },
    {
      "cell_type": "code",
      "metadata": {
        "id": "rXg1OlDwribz",
        "colab_type": "code",
        "outputId": "b1cbff7c-06f1-4ffc-9c60-fdedebc923bc",
        "colab": {
          "base_uri": "https://localhost:8080/",
          "height": 230
        }
      },
      "source": [
        "# Separate majority and minority classes\n",
        "from sklearn.utils import resample\n",
        "\n",
        "df_majority = df[df.Survived==0]\n",
        "df_minority = df[df.Survived==1]\n",
        " \n",
        "# Upsample minority class\n",
        "df_minority_upsampled = resample(df_minority, \n",
        "                                 replace=True,  \n",
        "                                 n_samples=549,    # no of passengers that did not survive\n",
        "                                 random_state=0) \n",
        " \n",
        "# Combine majority class with upsampled minority class\n",
        "df_upsampled = pd.concat([df_majority, df_minority_upsampled])\n",
        "\n",
        "# Splitting the dataset into 80% train and 20% test data\n",
        "X = df_upsampled[['Pclass', 'Sex', 'Age', 'SibSp',\n",
        "       'Parch', 'Fare']].values\n",
        "y = df_upsampled['Survived'].values\n",
        "\n",
        "from sklearn.model_selection import train_test_split\n",
        "X_train, X_test, y_train, y_test = train_test_split(X, y, test_size = 0.2, random_state = 0)\n",
        "\n",
        "print('X train:', X_train.shape, 'X test:', X_test.shape, 'y train:', y_train.shape, 'y test:', y_test.shape)\n",
        "\n",
        "# Feature scaling (standardization)\n",
        "from sklearn.preprocessing import StandardScaler\n",
        "\n",
        "scaler = StandardScaler()\n",
        "\n",
        "X_train = scaler.fit_transform(X_train)\n",
        "X_test = scaler.fit_transform(X_test)\n",
        "\n",
        "# Training the KNN model\n",
        "from sklearn.neighbors import KNeighborsClassifier\n",
        "classifier = KNeighborsClassifier(n_neighbors = 6, metric = 'manhattan')\n",
        "classifier.fit(X_train, y_train)\n",
        "\n",
        "# Making predictions based on the model\n",
        "y_pred = classifier.predict(X_test)\n",
        "\n",
        "# Evaluating the model\n",
        "from sklearn.metrics import classification_report, confusion_matrix\n",
        "print(confusion_matrix(y_test, y_pred))\n",
        "print(classification_report(y_test, y_pred))"
      ],
      "execution_count": 209,
      "outputs": [
        {
          "output_type": "stream",
          "text": [
            "X train: (878, 6) X test: (220, 6) y train: (878,) y test: (220,)\n",
            "[[92 13]\n",
            " [17 98]]\n",
            "              precision    recall  f1-score   support\n",
            "\n",
            "           0       0.84      0.88      0.86       105\n",
            "           1       0.88      0.85      0.87       115\n",
            "\n",
            "    accuracy                           0.86       220\n",
            "   macro avg       0.86      0.86      0.86       220\n",
            "weighted avg       0.86      0.86      0.86       220\n",
            "\n"
          ],
          "name": "stdout"
        }
      ]
    },
    {
      "cell_type": "markdown",
      "metadata": {
        "id": "Q-hugXb5rib4",
        "colab_type": "text"
      },
      "source": [
        "## Evaluation of the analysis"
      ]
    },
    {
      "cell_type": "markdown",
      "metadata": {
        "id": "iEPKxZeWrib4",
        "colab_type": "text"
      },
      "source": [
        "The model has an overall prediction accuracy of 86%, and hence this analysis can be considered a success."
      ]
    },
    {
      "cell_type": "markdown",
      "metadata": {
        "id": "2E3xedugrib5",
        "colab_type": "text"
      },
      "source": [
        "The data was sufficient for this analysis.  \n",
        "However, there was a lot of missing data for age, and imputation of values may have increased the error in prediction.  \n",
        "The data was also not balanced, so a more balanced dataset or one with more records would give a better result, if that was possible."
      ]
    }
  ]
}